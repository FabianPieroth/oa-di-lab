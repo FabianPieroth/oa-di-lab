{
 "cells": [
  {
   "cell_type": "markdown",
   "metadata": {},
   "source": [
    "## Process files from the shitty format to the old one"
   ]
  },
  {
   "cell_type": "markdown",
   "metadata": {},
   "source": [
    "#### First thing: Restart your kernel; better even, close jupyter altogether and open it anew if you ran any cell before reading this (comes from the shitty h5 format)\n",
    "##### You need the original Folder of Jan called 'OptimalSoS5frames'\n",
    "##### in your di-lan Folder. It is assumed that this is the project_root_dir\n",
    "##### if there are any probblems with this, just write the path to di-lab\n",
    "##### hard coded. Furthermore you need a Folder called 'OptimalSoS5frames'\n",
    "##### in the path /di-lab/raw/new_in. This one should be empty.\n",
    "##### Now you can run the script and the needed files will be created\n",
    "##### Afterwards you have to run the trainer with process_raw_data = True\n",
    "##### If you have done that, you can do the augmentation again.\n",
    "##### Any problems, just write me."
   ]
  },
  {
   "cell_type": "code",
   "execution_count": 2,
   "metadata": {},
   "outputs": [
    {
     "name": "stdout",
     "output_type": "stream",
     "text": [
      "Scan_13\n"
     ]
    },
    {
     "ename": "OSError",
     "evalue": "Unable to open file (file signature not found)",
     "output_type": "error",
     "traceback": [
      "\u001b[0;31m---------------------------------------------------------------------------\u001b[0m",
      "\u001b[0;31mOSError\u001b[0m                                   Traceback (most recent call last)",
      "\u001b[0;32m<ipython-input-2-f7032379be3b>\u001b[0m in \u001b[0;36m<module>\u001b[0;34m\u001b[0m\n\u001b[1;32m     34\u001b[0m         \u001b[0moa_file\u001b[0m \u001b[0;34m=\u001b[0m \u001b[0;34m[\u001b[0m\u001b[0ms\u001b[0m \u001b[0;32mfor\u001b[0m \u001b[0ms\u001b[0m \u001b[0;32min\u001b[0m \u001b[0mfile_names\u001b[0m \u001b[0;32mif\u001b[0m \u001b[0;34m'OA_'\u001b[0m \u001b[0;32min\u001b[0m \u001b[0ms\u001b[0m\u001b[0;34m]\u001b[0m\u001b[0;34m[\u001b[0m\u001b[0;36m0\u001b[0m\u001b[0;34m]\u001b[0m\u001b[0;34m\u001b[0m\u001b[0m\n\u001b[1;32m     35\u001b[0m \u001b[0;34m\u001b[0m\u001b[0m\n\u001b[0;32m---> 36\u001b[0;31m         \u001b[0min_file_us\u001b[0m \u001b[0;34m=\u001b[0m \u001b[0mh5py\u001b[0m\u001b[0;34m.\u001b[0m\u001b[0mFile\u001b[0m\u001b[0;34m(\u001b[0m\u001b[0mstr\u001b[0m\u001b[0;34m(\u001b[0m\u001b[0mpath_read_dir\u001b[0m\u001b[0;34m/\u001b[0m\u001b[0mscan\u001b[0m\u001b[0;34m)\u001b[0m \u001b[0;34m+\u001b[0m \u001b[0;34m'/'\u001b[0m \u001b[0;34m+\u001b[0m \u001b[0mus_file\u001b[0m\u001b[0;34m,\u001b[0m\u001b[0;34m'r+'\u001b[0m\u001b[0;34m)\u001b[0m\u001b[0;34m\u001b[0m\u001b[0m\n\u001b[0m\u001b[1;32m     37\u001b[0m         \u001b[0min_file_oa\u001b[0m \u001b[0;34m=\u001b[0m \u001b[0mh5py\u001b[0m\u001b[0;34m.\u001b[0m\u001b[0mFile\u001b[0m\u001b[0;34m(\u001b[0m\u001b[0mstr\u001b[0m\u001b[0;34m(\u001b[0m\u001b[0mpath_read_dir\u001b[0m\u001b[0;34m/\u001b[0m\u001b[0mscan\u001b[0m\u001b[0;34m)\u001b[0m \u001b[0;34m+\u001b[0m \u001b[0;34m'/'\u001b[0m \u001b[0;34m+\u001b[0m \u001b[0moa_file\u001b[0m\u001b[0;34m,\u001b[0m\u001b[0;34m'r+'\u001b[0m\u001b[0;34m)\u001b[0m\u001b[0;34m\u001b[0m\u001b[0m\n\u001b[1;32m     38\u001b[0m \u001b[0;34m\u001b[0m\u001b[0m\n",
      "\u001b[0;32m~/anaconda3/lib/python3.6/site-packages/h5py/_hl/files.py\u001b[0m in \u001b[0;36m__init__\u001b[0;34m(self, name, mode, driver, libver, userblock_size, swmr, **kwds)\u001b[0m\n\u001b[1;32m    310\u001b[0m             \u001b[0;32mwith\u001b[0m \u001b[0mphil\u001b[0m\u001b[0;34m:\u001b[0m\u001b[0;34m\u001b[0m\u001b[0m\n\u001b[1;32m    311\u001b[0m                 \u001b[0mfapl\u001b[0m \u001b[0;34m=\u001b[0m \u001b[0mmake_fapl\u001b[0m\u001b[0;34m(\u001b[0m\u001b[0mdriver\u001b[0m\u001b[0;34m,\u001b[0m \u001b[0mlibver\u001b[0m\u001b[0;34m,\u001b[0m \u001b[0;34m**\u001b[0m\u001b[0mkwds\u001b[0m\u001b[0;34m)\u001b[0m\u001b[0;34m\u001b[0m\u001b[0m\n\u001b[0;32m--> 312\u001b[0;31m                 \u001b[0mfid\u001b[0m \u001b[0;34m=\u001b[0m \u001b[0mmake_fid\u001b[0m\u001b[0;34m(\u001b[0m\u001b[0mname\u001b[0m\u001b[0;34m,\u001b[0m \u001b[0mmode\u001b[0m\u001b[0;34m,\u001b[0m \u001b[0muserblock_size\u001b[0m\u001b[0;34m,\u001b[0m \u001b[0mfapl\u001b[0m\u001b[0;34m,\u001b[0m \u001b[0mswmr\u001b[0m\u001b[0;34m=\u001b[0m\u001b[0mswmr\u001b[0m\u001b[0;34m)\u001b[0m\u001b[0;34m\u001b[0m\u001b[0m\n\u001b[0m\u001b[1;32m    313\u001b[0m \u001b[0;34m\u001b[0m\u001b[0m\n\u001b[1;32m    314\u001b[0m                 \u001b[0;32mif\u001b[0m \u001b[0mswmr_support\u001b[0m\u001b[0;34m:\u001b[0m\u001b[0;34m\u001b[0m\u001b[0m\n",
      "\u001b[0;32m~/anaconda3/lib/python3.6/site-packages/h5py/_hl/files.py\u001b[0m in \u001b[0;36mmake_fid\u001b[0;34m(name, mode, userblock_size, fapl, fcpl, swmr)\u001b[0m\n\u001b[1;32m    142\u001b[0m         \u001b[0mfid\u001b[0m \u001b[0;34m=\u001b[0m \u001b[0mh5f\u001b[0m\u001b[0;34m.\u001b[0m\u001b[0mopen\u001b[0m\u001b[0;34m(\u001b[0m\u001b[0mname\u001b[0m\u001b[0;34m,\u001b[0m \u001b[0mflags\u001b[0m\u001b[0;34m,\u001b[0m \u001b[0mfapl\u001b[0m\u001b[0;34m=\u001b[0m\u001b[0mfapl\u001b[0m\u001b[0;34m)\u001b[0m\u001b[0;34m\u001b[0m\u001b[0m\n\u001b[1;32m    143\u001b[0m     \u001b[0;32melif\u001b[0m \u001b[0mmode\u001b[0m \u001b[0;34m==\u001b[0m \u001b[0;34m'r+'\u001b[0m\u001b[0;34m:\u001b[0m\u001b[0;34m\u001b[0m\u001b[0m\n\u001b[0;32m--> 144\u001b[0;31m         \u001b[0mfid\u001b[0m \u001b[0;34m=\u001b[0m \u001b[0mh5f\u001b[0m\u001b[0;34m.\u001b[0m\u001b[0mopen\u001b[0m\u001b[0;34m(\u001b[0m\u001b[0mname\u001b[0m\u001b[0;34m,\u001b[0m \u001b[0mh5f\u001b[0m\u001b[0;34m.\u001b[0m\u001b[0mACC_RDWR\u001b[0m\u001b[0;34m,\u001b[0m \u001b[0mfapl\u001b[0m\u001b[0;34m=\u001b[0m\u001b[0mfapl\u001b[0m\u001b[0;34m)\u001b[0m\u001b[0;34m\u001b[0m\u001b[0m\n\u001b[0m\u001b[1;32m    145\u001b[0m     \u001b[0;32melif\u001b[0m \u001b[0mmode\u001b[0m \u001b[0;32min\u001b[0m \u001b[0;34m[\u001b[0m\u001b[0;34m'w-'\u001b[0m\u001b[0;34m,\u001b[0m \u001b[0;34m'x'\u001b[0m\u001b[0;34m]\u001b[0m\u001b[0;34m:\u001b[0m\u001b[0;34m\u001b[0m\u001b[0m\n\u001b[1;32m    146\u001b[0m         \u001b[0mfid\u001b[0m \u001b[0;34m=\u001b[0m \u001b[0mh5f\u001b[0m\u001b[0;34m.\u001b[0m\u001b[0mcreate\u001b[0m\u001b[0;34m(\u001b[0m\u001b[0mname\u001b[0m\u001b[0;34m,\u001b[0m \u001b[0mh5f\u001b[0m\u001b[0;34m.\u001b[0m\u001b[0mACC_EXCL\u001b[0m\u001b[0;34m,\u001b[0m \u001b[0mfapl\u001b[0m\u001b[0;34m=\u001b[0m\u001b[0mfapl\u001b[0m\u001b[0;34m,\u001b[0m \u001b[0mfcpl\u001b[0m\u001b[0;34m=\u001b[0m\u001b[0mfcpl\u001b[0m\u001b[0;34m)\u001b[0m\u001b[0;34m\u001b[0m\u001b[0m\n",
      "\u001b[0;32mh5py/_objects.pyx\u001b[0m in \u001b[0;36mh5py._objects.with_phil.wrapper\u001b[0;34m()\u001b[0m\n",
      "\u001b[0;32mh5py/_objects.pyx\u001b[0m in \u001b[0;36mh5py._objects.with_phil.wrapper\u001b[0;34m()\u001b[0m\n",
      "\u001b[0;32mh5py/h5f.pyx\u001b[0m in \u001b[0;36mh5py.h5f.open\u001b[0;34m()\u001b[0m\n",
      "\u001b[0;31mOSError\u001b[0m: Unable to open file (file signature not found)"
     ]
    }
   ],
   "source": [
    "import os\n",
    "from pathlib import Path\n",
    "import h5py\n",
    "import scipy\n",
    "import numpy as np\n",
    "import scipy.io\n",
    "\n",
    "project_root_dir= Path().resolve().parents[0]\n",
    "path_dir_save = project_root_dir/'data'/'raw'/'new_in'/'OptimalSoS5frames'\n",
    "path_read_dir = project_root_dir/'OptimalSoS5frames'\n",
    "\n",
    "proc_directories = [s for s in os.listdir(path_read_dir) if '.' not in s]\n",
    "\n",
    "for scan in proc_directories:\n",
    "    file_names = [s for s in os.listdir(path_read_dir/scan) if '.D' not in s]\n",
    "    os.makedirs(path_dir_save / scan)\n",
    "    print(scan)\n",
    "\n",
    "    if scan == \"Scan_31\":\n",
    "        oa_file = [s for s in file_names if 'OA_' in s][0]\n",
    "        in_file_oa = h5py.File(str(path_read_dir/scan) + '/' + oa_file)\n",
    "        dict_to_save_oa = {}\n",
    "        \n",
    "        in_array_oa_low = np.rot90(np.rollaxis(np.array(in_file_oa['OA_low']),0,3),3, axes=(0,1))\n",
    "        in_array_oa_high = np.rot90(np.rollaxis(np.array(in_file_oa['OA_high']),0,3),3, axes=(0,1))\n",
    "        \n",
    "        dict_to_save_oa['OA_low'] = np.array(in_array_oa_low)\n",
    "        dict_to_save_oa['OA_high'] = np.array(in_array_oa_high)\n",
    "        \n",
    "        scipy.io.savemat(str(path_dir_save/scan) + '/' + oa_file, dict_to_save_oa)\n",
    "        in_file_oa.close()\n",
    "    else:\n",
    "        us_file = [s for s in file_names if 'US_' in s][0]\n",
    "        oa_file = [s for s in file_names if 'OA_' in s][0]\n",
    "\n",
    "        in_file_us = h5py.File(str(path_read_dir/scan) + '/' + us_file,'r+')\n",
    "        in_file_oa = h5py.File(str(path_read_dir/scan) + '/' + oa_file,'r+')\n",
    "        \n",
    "        dict_to_save_us = {}\n",
    "        dict_to_save_oa = {}\n",
    "        \n",
    "        in_array_us_low = np.rot90(np.rollaxis(np.array(in_file_us['US_low']),0,3),3, axes=(0,1))\n",
    "        in_array_us_high = np.rot90(np.rollaxis(np.array(in_file_us['US_high']),0,3),3, axes=(0,1))\n",
    "\n",
    "        dict_to_save_us['US_low'] = np.array(in_array_us_low)\n",
    "        dict_to_save_us['US_high'] = np.array(in_array_us_high)\n",
    "        \n",
    "        in_array_oa_low = np.rot90(np.rollaxis(np.array(in_file_oa['OA_low']),0,3),3, axes=(0,1))\n",
    "        in_array_oa_high = np.rot90(np.rollaxis(np.array(in_file_oa['OA_high']),0,3),3, axes=(0,1))\n",
    "\n",
    "        dict_to_save_oa['OA_low'] = np.array(in_array_oa_low)\n",
    "        dict_to_save_oa['OA_high'] = np.array(in_array_oa_high)\n",
    "\n",
    "        scipy.io.savemat(str(path_dir_save/scan) + '/' + us_file, dict_to_save_us)\n",
    "        scipy.io.savemat(str(path_dir_save/scan) + '/' + oa_file, dict_to_save_oa)\n",
    "        in_file_us.close()\n",
    "        in_file_oa.close()\n",
    "        \n",
    "print(proc_directories)"
   ]
  },
  {
   "cell_type": "code",
   "execution_count": null,
   "metadata": {},
   "outputs": [],
   "source": []
  }
 ],
 "metadata": {
  "kernelspec": {
   "display_name": "Python 3",
   "language": "python",
   "name": "python3"
  },
  "language_info": {
   "codemirror_mode": {
    "name": "ipython",
    "version": 3
   },
   "file_extension": ".py",
   "mimetype": "text/x-python",
   "name": "python",
   "nbconvert_exporter": "python",
   "pygments_lexer": "ipython3",
   "version": "3.6.6"
  }
 },
 "nbformat": 4,
 "nbformat_minor": 2
}
