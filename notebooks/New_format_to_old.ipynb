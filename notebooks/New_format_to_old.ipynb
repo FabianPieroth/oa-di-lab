{
 "cells": [
  {
   "cell_type": "markdown",
   "metadata": {},
   "source": [
    "## Process files from the shitty format to the old one"
   ]
  },
  {
   "cell_type": "markdown",
   "metadata": {},
   "source": [
    "#### First thing: Restart your kernel; better even, close jupyter altogether and open it anew if you ran any cell before reading this (comes from the shitty h5 format)\n",
    "##### You need the original Folder of Jan called 'OptimalSoS5frames'\n",
    "##### in your di-lan Folder. It is assumed that this is the project_root_dir\n",
    "##### if there are any probblems with this, just write the path to di-lab\n",
    "##### hard coded. Furthermore you need a Folder called 'OptimalSoS5frames'\n",
    "##### in the path /di-lab/raw/new_in. This one should be empty.\n",
    "##### Now you can run the script and the needed files will be created\n",
    "##### Afterwards you have to run the trainer with process_raw_data = True\n",
    "##### If you have done that, you can do the augmentation again.\n",
    "##### Any problems, just write me."
   ]
  },
  {
   "cell_type": "code",
   "execution_count": 1,
   "metadata": {},
   "outputs": [
    {
     "name": "stderr",
     "output_type": "stream",
     "text": [
      "/anaconda3/lib/python3.6/site-packages/h5py/__init__.py:36: FutureWarning: Conversion of the second argument of issubdtype from `float` to `np.floating` is deprecated. In future, it will be treated as `np.float64 == np.dtype(float).type`.\n",
      "  from ._conv import register_converters as _register_converters\n"
     ]
    },
    {
     "name": "stdout",
     "output_type": "stream",
     "text": [
      "Scan_34\n",
      "Scan_33\n",
      "Scan_50\n",
      "Scan_32\n",
      "Scan_35\n",
      "Scan_3\n",
      "Scan_4\n",
      "Scan_5\n",
      "Scan_2\n",
      "Scan_19\n",
      "Scan_26\n",
      "Scan_28\n",
      "Scan_17\n",
      "Scan_10\n",
      "Scan_43\n",
      "Scan_11\n",
      "Scan_29\n",
      "Scan_16\n",
      "Scan_20\n",
      "Scan_18\n",
      "Scan_27\n",
      "Scan_42\n",
      "Scan_45\n",
      "Scan_39\n",
      "Scan_30\n",
      "Scan_37\n",
      "Scan_36\n",
      "Scan_31\n",
      "Scan_38\n",
      "Scan_7\n",
      "Scan_9\n",
      "Scan_8\n",
      "Scan_1\n",
      "Scan_6\n",
      "Scan_40\n",
      "Scan_49\n",
      "Scan_22\n",
      "Scan_25\n",
      "Scan_13\n",
      "Scan_14\n",
      "Scan_46\n",
      "Scan_41\n",
      "Scan_15\n",
      "Scan_12\n",
      "Scan_24\n",
      "Scan_23\n",
      "['Scan_34', 'Scan_33', 'Scan_50', 'Scan_32', 'Scan_35', 'Scan_3', 'Scan_4', 'Scan_5', 'Scan_2', 'Scan_19', 'Scan_26', 'Scan_28', 'Scan_17', 'Scan_10', 'Scan_43', 'Scan_11', 'Scan_29', 'Scan_16', 'Scan_20', 'Scan_18', 'Scan_27', 'Scan_42', 'Scan_45', 'Scan_39', 'Scan_30', 'Scan_37', 'Scan_36', 'Scan_31', 'Scan_38', 'Scan_7', 'Scan_9', 'Scan_8', 'Scan_1', 'Scan_6', 'Scan_40', 'Scan_49', 'Scan_22', 'Scan_25', 'Scan_13', 'Scan_14', 'Scan_46', 'Scan_41', 'Scan_15', 'Scan_12', 'Scan_24', 'Scan_23']\n"
     ]
    }
   ],
   "source": [
    "import os\n",
    "from pathlib import Path\n",
    "import h5py\n",
    "import scipy\n",
    "import numpy as np\n",
    "import scipy.io\n",
    "\n",
    "project_root_dir= Path().resolve().parents[0]\n",
    "path_dir_save = project_root_dir/'data'/'raw'/'new_in'/'OptimalSoS5frames'\n",
    "path_read_dir = project_root_dir/'OptimalSoS5frames'\n",
    "\n",
    "proc_directories = [s for s in os.listdir(path_read_dir) if '.' not in s]\n",
    "\n",
    "for scan in proc_directories:\n",
    "    file_names = [s for s in os.listdir(path_read_dir/scan) if '.D' not in s]\n",
    "    os.makedirs(path_dir_save / scan)\n",
    "    print(scan)\n",
    "\n",
    "    if scan == \"Scan_31\":\n",
    "        oa_file = [s for s in file_names if 'OA_' in s][0]\n",
    "        in_file_oa = h5py.File(str(path_read_dir/scan) + '/' + oa_file)\n",
    "        dict_to_save_oa = {}\n",
    "        \n",
    "        in_array_oa_low = np.rot90(np.rollaxis(np.array(in_file_oa['OA_low']),0,3),3, axes=(0,1))\n",
    "        in_array_oa_high = np.rot90(np.rollaxis(np.array(in_file_oa['OA_high']),0,3),3, axes=(0,1))\n",
    "        \n",
    "        dict_to_save_oa['OA_low'] = np.array(in_array_oa_low)\n",
    "        dict_to_save_oa['OA_high'] = np.array(in_array_oa_high)\n",
    "        \n",
    "        scipy.io.savemat(str(path_dir_save/scan) + '/' + oa_file, dict_to_save_oa)\n",
    "    else:\n",
    "        us_file = [s for s in file_names if 'US_' in s][0]\n",
    "        oa_file = [s for s in file_names if 'OA_' in s][0]\n",
    "\n",
    "        in_file_us = h5py.File(str(path_read_dir/scan) + '/' + us_file)\n",
    "        in_file_oa = h5py.File(str(path_read_dir/scan) + '/' + oa_file)\n",
    "        \n",
    "        dict_to_save_us = {}\n",
    "        dict_to_save_oa = {}\n",
    "        \n",
    "        in_array_us_low = np.rot90(np.rollaxis(np.array(in_file_us['US_low']),0,3),3, axes=(0,1))\n",
    "        in_array_us_high = np.rot90(np.rollaxis(np.array(in_file_us['US_high']),0,3),3, axes=(0,1))\n",
    "\n",
    "        dict_to_save_us['US_low'] = np.array(in_array_us_low)\n",
    "        dict_to_save_us['US_high'] = np.array(in_array_us_high)\n",
    "        \n",
    "        in_array_oa_low = np.rot90(np.rollaxis(np.array(in_file_oa['OA_low']),0,3),3, axes=(0,1))\n",
    "        in_array_oa_high = np.rot90(np.rollaxis(np.array(in_file_oa['OA_high']),0,3),3, axes=(0,1))\n",
    "\n",
    "        dict_to_save_oa['OA_low'] = np.array(in_array_oa_low)\n",
    "        dict_to_save_oa['OA_high'] = np.array(in_array_oa_high)\n",
    "\n",
    "        scipy.io.savemat(str(path_dir_save/scan) + '/' + us_file, dict_to_save_us)\n",
    "        scipy.io.savemat(str(path_dir_save/scan) + '/' + oa_file, dict_to_save_oa)\n",
    "\n",
    "print(proc_directories)"
   ]
  },
  {
   "cell_type": "code",
   "execution_count": null,
   "metadata": {},
   "outputs": [],
   "source": []
  }
 ],
 "metadata": {
  "kernelspec": {
   "display_name": "Python 3",
   "language": "python",
   "name": "python3"
  },
  "language_info": {
   "codemirror_mode": {
    "name": "ipython",
    "version": 3
   },
   "file_extension": ".py",
   "mimetype": "text/x-python",
   "name": "python",
   "nbconvert_exporter": "python",
   "pygments_lexer": "ipython3",
   "version": "3.6.5"
  }
 },
 "nbformat": 4,
 "nbformat_minor": 2
}
